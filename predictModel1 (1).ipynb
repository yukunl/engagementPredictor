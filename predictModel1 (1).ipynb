{
 "cells": [
  {
   "cell_type": "markdown",
   "id": "27ad61b3",
   "metadata": {},
   "source": [
    "## Note: Due to privacy reasons, Output of this file will not be displayed ##"
   ]
  },
  {
   "cell_type": "code",
   "execution_count": null,
   "id": "b151a17e",
   "metadata": {},
   "outputs": [],
   "source": [
    "import pandas as pd\n",
    "import numpy as np"
   ]
  },
  {
   "cell_type": "markdown",
   "id": "3df19a42",
   "metadata": {},
   "source": [
    "## 1.  Import Average Monthly Engagement Data ##"
   ]
  },
  {
   "cell_type": "code",
   "execution_count": null,
   "id": "b264d9ac",
   "metadata": {},
   "outputs": [],
   "source": [
    "# import engagement level ground truth\n",
    "engagement_level_file = pd.read_csv(\"data/groundTruth.csv\")\n",
    "engagement_level_file = engagement_level_file.rename(columns={'IdPaciente' : 'Patient ID' })\n",
    "engagement_level_file = engagement_level_file.loc[:, ~engagement_level_file.columns.str.contains('^Unnamed')]\n",
    "engagement_level_file\n",
    "\n",
    "# process level_of_engagement \n",
    "engagement_level_file['predict'] = engagement_level_file['Level_of_Engagement'].shift(1)\n",
    "useless = engagement_level_file.groupby(['Patient ID']).head(1)\n",
    "engagement_level_file = engagement_level_file.append(useless)\n",
    "engagement_level_file = engagement_level_file.drop_duplicates(keep = False)\n",
    "\n",
    "engagement_level_file"
   ]
  },
  {
   "cell_type": "markdown",
   "id": "748af250",
   "metadata": {},
   "source": [
    "## 2. Model 1: using last's month engagement and Lab findings to predict next month's engagement ##"
   ]
  },
  {
   "cell_type": "markdown",
   "id": "4d635959",
   "metadata": {},
   "source": [
    "### import lab findings predictors ##"
   ]
  },
  {
   "cell_type": "code",
   "execution_count": null,
   "id": "d9cd6103",
   "metadata": {},
   "outputs": [],
   "source": [
    "predictors = pd.read_csv(\"data/pyschData.csv\")\n",
    "predictors = predictors.loc[:, ~predictors.columns.str.contains('^Unnamed')]\n",
    "result = pd.merge(predictors, engagement_level_file, on=['Patient ID', 'Year', 'Month'], how=\"inner\")\n",
    "result = result.dropna(axis=0)\n",
    "result.sort_values(by=['Patient ID'])\n"
   ]
  },
  {
   "cell_type": "code",
   "execution_count": null,
   "id": "e8356056",
   "metadata": {},
   "outputs": [],
   "source": [
    "pip install plotly"
   ]
  },
  {
   "cell_type": "code",
   "execution_count": null,
   "id": "52e54fe7",
   "metadata": {},
   "outputs": [],
   "source": [
    "import matplotlib.pyplot as plt\n",
    "\n",
    "plt.xlabel('engagement Level')\n",
    "plt.ylabel('neuropathy')\n",
    "plt.xlim(xmax=12,xmin=0)\n",
    "plt.ylim(ymax=2,ymin=0)\n",
    "\n",
    "area = np.pi * 4**2 \n",
    "colors1 = '#00CED1'\n",
    "colors2='#DC143C'\n",
    "\n",
    "# scatter plot\n",
    "plt.scatter(result['Level_of_Engagement'], result['PERIFERICA'], s=area, c=colors1, alpha=0.4)\n",
    "\n",
    "\n",
    "#plt.legend()\n",
    "\n",
    "plt.show()"
   ]
  },
  {
   "cell_type": "code",
   "execution_count": null,
   "id": "7d59b6d3",
   "metadata": {},
   "outputs": [],
   "source": [
    "result[['PERIFERICA','Level_of_Engagement']].groupby('PERIFERICA').describe()"
   ]
  },
  {
   "cell_type": "code",
   "execution_count": null,
   "id": "3a0dc3bd",
   "metadata": {},
   "outputs": [],
   "source": [
    "result[['Neuropathy','Level_of_Engagement']].groupby('Neuropathy').describe()"
   ]
  },
  {
   "cell_type": "code",
   "execution_count": null,
   "id": "547924f9",
   "metadata": {},
   "outputs": [],
   "source": [
    "result[['VISCERAL','Level_of_Engagement']].groupby('VISCERAL').describe()"
   ]
  },
  {
   "cell_type": "code",
   "execution_count": null,
   "id": "1553e543",
   "metadata": {},
   "outputs": [],
   "source": [
    "result[['AUTONOMICA','Level_of_Engagement']].groupby('AUTONOMICA').describe()"
   ]
  },
  {
   "cell_type": "markdown",
   "id": "05ad123b",
   "metadata": {},
   "source": [
    "### In Lab Findings, Neuropathy, Periferica, visceral are most unlike each other, which indicate they are good features to include ###"
   ]
  },
  {
   "cell_type": "code",
   "execution_count": null,
   "id": "0d404667",
   "metadata": {},
   "outputs": [],
   "source": [
    "import seaborn as sn\n",
    "import matplotlib.pyplot as plt\n",
    "corrMatrix = result.corr()\n",
    "sn.heatmap(corrMatrix,annot=True)\n",
    "plt.show()"
   ]
  },
  {
   "cell_type": "markdown",
   "id": "048741fc",
   "metadata": {},
   "source": [
    "###  Select PERIFERICA, VISCERAL,  AUTONOMICA and last month engagement as features ###"
   ]
  },
  {
   "cell_type": "code",
   "execution_count": null,
   "id": "31120c46",
   "metadata": {},
   "outputs": [],
   "source": [
    "labFinding_features = ['PERIFERICA', 'VISCERAL',\n",
    "       'AUTONOMICA', 'predict']\n",
    "X = result[labFinding_features]\n",
    "y = result.Level_of_Engagement"
   ]
  },
  {
   "cell_type": "markdown",
   "id": "39f54d03",
   "metadata": {},
   "source": [
    "### Model : Lab findings and previous month engagement predicting current month engagement using Support Vector Machine ###"
   ]
  },
  {
   "cell_type": "code",
   "execution_count": null,
   "id": "b78c7b7e",
   "metadata": {},
   "outputs": [],
   "source": [
    "#Support Vector Machine\n",
    "from sklearn.svm import SVR\n",
    "from sklearn.pipeline import make_pipeline\n",
    "from sklearn.preprocessing import StandardScaler\n",
    "from sklearn.model_selection import train_test_split\n",
    "from sklearn.metrics import mean_absolute_error\n",
    "train_X, val_X, train_y, val_y = train_test_split(X, y, random_state = 1)\n",
    "\n",
    "regr = make_pipeline(StandardScaler(), SVR(C=1.0, epsilon=0.02, kernel = 'rbf'))\n",
    "regr.fit(train_X, train_y)\n",
    "val_predictions = regr.predict(val_X)\n",
    "print( \"Mean absolute error: \" + str(mean_absolute_error(val_y, val_predictions)))"
   ]
  },
  {
   "cell_type": "markdown",
   "id": "70ca2b3a",
   "metadata": {},
   "source": [
    "### Visualize accuracy of prediction: Heatmap of predicted engagement vs actual engagement ###\n",
    "Areas where the prediction is correct lights up. An accurate model should have blocks light up on the diagnal line from bottom left to top right. Our model did a good job in predicting engagement level because a good chunk of the diagnal line lights up. "
   ]
  },
  {
   "cell_type": "code",
   "execution_count": null,
   "id": "c46958e3",
   "metadata": {},
   "outputs": [],
   "source": [
    "heatmap, xedges, yedges = np.histogram2d(val_y, val_predictions, bins=10)\n",
    "extent = [xedges[0], xedges[-1], yedges[0], yedges[-1]]\n",
    "\n",
    "plt.clf()\n",
    "plt.imshow(heatmap.T, extent=extent, origin='lower',cmap='hot')\n",
    "plt.show()"
   ]
  },
  {
   "cell_type": "markdown",
   "id": "1a7f97c4",
   "metadata": {},
   "source": [
    "## 3. Model 2: Lifestyle, diet, and previous month engagement predicting current month engagement using Decision Tree ##"
   ]
  },
  {
   "cell_type": "code",
   "execution_count": null,
   "id": "4be5e7c4",
   "metadata": {},
   "outputs": [],
   "source": [
    "data4 = pd.read_csv(\"data/lifestyle_and_diet.csv\",na_values=\"?\")\n",
    "data4 = data4.rename(columns={'Patient Id' : 'Patient ID' })\n",
    "data4 = data4[['Patient ID', 'Total Energy Expenditure', 'Age', 'BMI', 'Calories']]\n",
    "lifeStyleData= pd.merge(data4, engagement_level_file, on=['Patient ID'], how=\"inner\")\n",
    "lifeStyleData.sort_values(by=['Patient ID'])"
   ]
  },
  {
   "cell_type": "code",
   "execution_count": null,
   "id": "f79d55d1",
   "metadata": {},
   "outputs": [],
   "source": [
    "corrMatrix = lifeStyleData.corr()\n",
    "sn.heatmap(corrMatrix,annot=True)\n",
    "plt.show()"
   ]
  },
  {
   "cell_type": "markdown",
   "id": "56f2b9be",
   "metadata": {},
   "source": [
    "###  Select Total Engergy Expenditure, Age, BMI and last month engagement as features ###"
   ]
  },
  {
   "cell_type": "code",
   "execution_count": null,
   "id": "95bb77b2",
   "metadata": {},
   "outputs": [],
   "source": [
    "y2 = lifeStyleData.Level_of_Engagement\n",
    "bodyFeatures = ['Total Energy Expenditure','Age','BMI', 'predict']\n",
    "X2 = lifeStyleData[bodyFeatures]"
   ]
  },
  {
   "cell_type": "markdown",
   "id": "1eb60709",
   "metadata": {},
   "source": [
    "### Build the model with Decision Tree ###"
   ]
  },
  {
   "cell_type": "code",
   "execution_count": null,
   "id": "44da8844",
   "metadata": {},
   "outputs": [],
   "source": [
    "#Decision Tree\n",
    "from sklearn.tree import DecisionTreeRegressor\n",
    "from sklearn.model_selection import train_test_split\n",
    "from sklearn.metrics import mean_absolute_error\n",
    "train_X2, val_X2, train_y2, val_y2 = train_test_split(X2, y2, random_state = 1)\n",
    "# Define model\n",
    "lab_finding_predict = DecisionTreeRegressor()\n",
    "lab_finding_predict.fit(train_X2, train_y2)\n",
    "\n",
    "val_predictions2 = lab_finding_predict.predict(val_X2)\n",
    "print(\"Mean absolute error \" + str(mean_absolute_error(val_y2, val_predictions2)))"
   ]
  },
  {
   "cell_type": "markdown",
   "id": "add3346e",
   "metadata": {},
   "source": [
    "### Visualize accuracy of prediction: Heatmap of predicted engagement vs actual engagement ###\n",
    "This model also showed significant improvement over the baseline mean absolute error"
   ]
  },
  {
   "cell_type": "code",
   "execution_count": null,
   "id": "15d61f03",
   "metadata": {},
   "outputs": [],
   "source": [
    "heatmap, xedges, yedges = np.histogram2d(val_y2, val_predictions2, bins=10)\n",
    "extent = [xedges[0], xedges[-1], yedges[0], yedges[-1]]\n",
    "\n",
    "plt.clf()\n",
    "plt.imshow(heatmap.T, extent=extent, origin='lower',cmap='hot')\n",
    "plt.show()"
   ]
  },
  {
   "cell_type": "markdown",
   "id": "eadd15d6",
   "metadata": {},
   "source": [
    "## 4. Appendix ##\n",
    "\n",
    "## Below are the models and features we tried, but found them not very usful, as they are worse than baseline prediction ##"
   ]
  },
  {
   "cell_type": "markdown",
   "id": "1f6d5dcd",
   "metadata": {},
   "source": [
    "### Data import ###"
   ]
  },
  {
   "cell_type": "markdown",
   "id": "7745cfe3",
   "metadata": {},
   "source": [
    "- patient demographics"
   ]
  },
  {
   "cell_type": "code",
   "execution_count": null,
   "id": "f46d48ce",
   "metadata": {},
   "outputs": [],
   "source": [
    "data6 = pd.read_csv(\"data/patient_demographics.csv\",na_values=\"?\")\n",
    "#adjust female/male and maritial status to number category\n",
    "data6 = data6.replace('H', 0)\n",
    "data6 = data6.replace('M', 1)\n",
    "\n",
    "data6 = data6.replace('SOLTERÍA', 0)\n",
    "data6 = data6.replace('MATRIMONIO', 1)\n",
    "data6 = data6.replace('UNIÓN LIBRE', 2)\n",
    "data6 = data6.replace('VIUDEZ', 3)\n",
    "data6 = data6.replace('DIVORCIO', 4)\n",
    "\n",
    "data6"
   ]
  },
  {
   "cell_type": "markdown",
   "id": "d1e622b8",
   "metadata": {},
   "source": [
    "- patient geography"
   ]
  },
  {
   "cell_type": "code",
   "execution_count": null,
   "id": "f23b6296",
   "metadata": {},
   "outputs": [],
   "source": [
    "data7 = pd.read_csv(\"data/patient_geography.csv\",na_values=\"?\")\n",
    "data7"
   ]
  },
  {
   "cell_type": "markdown",
   "id": "6c96c1bd",
   "metadata": {},
   "source": [
    "### merge engagement predictor ###"
   ]
  },
  {
   "cell_type": "code",
   "execution_count": null,
   "id": "3c69eed2",
   "metadata": {},
   "outputs": [],
   "source": [
    "model2Data = pd.merge(data7, engagement_level_file, on=['Patient ID'], how=\"inner\")\n",
    "#result = pd.merge(predictors2, result, on=['Patient ID', 'Year', 'Month'], how=\"outer\")\n",
    "result = result.dropna(axis=0)\n",
    "#result = result.fillna(0)\n",
    "model2Data.sort_values(by=['Patient ID'])"
   ]
  },
  {
   "cell_type": "code",
   "execution_count": null,
   "id": "57a9f6f9",
   "metadata": {},
   "outputs": [],
   "source": [
    "model3Data = pd.merge(data6, engagement_level_file, on=['Patient ID'], how=\"inner\")\n",
    "model3Data.sort_values(by=['Patient ID'])"
   ]
  },
  {
   "cell_type": "code",
   "execution_count": null,
   "id": "2a32374f",
   "metadata": {},
   "outputs": [],
   "source": [
    "model4Data = pd.merge(data4, engagement_level_file, on=['Patient ID'], how=\"inner\")\n",
    "model4Data.sort_values(by=['Patient ID'])"
   ]
  },
  {
   "cell_type": "markdown",
   "id": "d0ec985f",
   "metadata": {},
   "source": [
    "### Decision Tree on Lab findings - performance not as well as Support Vector Machine ###"
   ]
  },
  {
   "cell_type": "code",
   "execution_count": null,
   "id": "a3057ad1",
   "metadata": {},
   "outputs": [],
   "source": [
    "#Decision Tree\n",
    "from sklearn.tree import DecisionTreeRegressor\n",
    "from sklearn.model_selection import train_test_split\n",
    "from sklearn.metrics import mean_absolute_error\n",
    "train_X, val_X, train_y, val_y = train_test_split(X, y, random_state = 1)\n",
    "# Define model\n",
    "lab_finding_predict = DecisionTreeRegressor()\n",
    "lab_finding_predict.fit(train_X, train_y)\n",
    "\n",
    "val_predictions = lab_finding_predict.predict(val_X)\n",
    "print(mean_absolute_error(val_y, val_predictions))"
   ]
  },
  {
   "cell_type": "markdown",
   "id": "6d40ce71",
   "metadata": {},
   "source": [
    "### Linear Regression on Lab findings - performance not as well as Support Vector Machine ###"
   ]
  },
  {
   "cell_type": "code",
   "execution_count": null,
   "id": "8c2f9a88",
   "metadata": {},
   "outputs": [],
   "source": [
    "#Linear Regression\n",
    "from sklearn.linear_model import LinearRegression\n",
    "lab_finding_predict = LinearRegression()\n",
    "lab_finding_predict.fit(train_X, train_y)\n",
    "\n",
    "val_predictions = lab_finding_predict.predict(val_X)\n",
    "print(mean_absolute_error(val_y, val_predictions))"
   ]
  },
  {
   "cell_type": "markdown",
   "id": "f1c183bd",
   "metadata": {},
   "source": [
    "### Decision tree model based on Patient demographics  - worse error comparing to baseline ###"
   ]
  },
  {
   "cell_type": "code",
   "execution_count": null,
   "id": "e638d8c3",
   "metadata": {},
   "outputs": [],
   "source": [
    "y3 = model3Data.Level_of_Engagement\n",
    "demographicFeatures = ['Sex','Marital status','YearBirth', 'predict']\n",
    "# labFinding_features = ['ApoyoSocialEmocional']\n",
    "X3 = model3Data[demographicFeatures]"
   ]
  },
  {
   "cell_type": "code",
   "execution_count": null,
   "id": "c945dad0",
   "metadata": {},
   "outputs": [],
   "source": [
    "#Decision Tree\n",
    "from sklearn.model_selection import train_test_split\n",
    "from sklearn.metrics import mean_absolute_error\n",
    "train_X, val_X, train_y, val_y = train_test_split(X3, y3, random_state = 1)\n",
    "# Define model\n",
    "lab_finding_predict = DecisionTreeRegressor()\n",
    "lab_finding_predict.fit(train_X, train_y)\n",
    "\n",
    "val_predictions = lab_finding_predict.predict(val_X)\n",
    "print(\"Mean absolute error: \" + str(mean_absolute_error(val_y, val_predictions)))"
   ]
  },
  {
   "cell_type": "markdown",
   "id": "4d190c23",
   "metadata": {},
   "source": [
    "### Linear regression model based on Patient demographics  - worse error comparing to baseline ###"
   ]
  },
  {
   "cell_type": "code",
   "execution_count": null,
   "id": "9e056a87",
   "metadata": {},
   "outputs": [],
   "source": [
    "#Linear Regression\n",
    "from sklearn.linear_model import LinearRegression\n",
    "lab_finding_predict = LinearRegression()\n",
    "lab_finding_predict.fit(train_X, train_y)\n",
    "\n",
    "val_predictions = lab_finding_predict.predict(val_X)\n",
    "print(\"Mean absolute error: \" + str(mean_absolute_error(val_y, val_predictions)))"
   ]
  },
  {
   "cell_type": "markdown",
   "id": "75cab0f8",
   "metadata": {},
   "source": [
    "### Linear regression model for Patient Lifestyle ###"
   ]
  },
  {
   "cell_type": "code",
   "execution_count": null,
   "id": "d142a4d1",
   "metadata": {},
   "outputs": [],
   "source": [
    "bodyFeatures = ['Total Energy Expenditure','Age','BMI', 'predict']\n",
    "# labFinding_features = ['ApoyoSocialEmocional']\n",
    "X4 = model4Data[bodyFeatures]"
   ]
  },
  {
   "cell_type": "code",
   "execution_count": null,
   "id": "f2a35e4e",
   "metadata": {},
   "outputs": [],
   "source": [
    "#Linear Regression\n",
    "from sklearn.linear_model import LinearRegression\n",
    "lab_finding_predict = LinearRegression()\n",
    "lab_finding_predict.fit(train_X, train_y)\n",
    "\n",
    "val_predictions = lab_finding_predict.predict(val_X)\n",
    "print(\"Mean absolute error: \" + str(mean_absolute_error(val_y, val_predictions)))"
   ]
  },
  {
   "cell_type": "markdown",
   "id": "f04bb64e",
   "metadata": {},
   "source": [
    "### All features above were also put in Support Vector Machine model, and the model did not converge ###"
   ]
  }
 ],
 "metadata": {
  "kernelspec": {
   "display_name": "Python 3",
   "language": "python",
   "name": "python3"
  },
  "language_info": {
   "codemirror_mode": {
    "name": "ipython",
    "version": 3
   },
   "file_extension": ".py",
   "mimetype": "text/x-python",
   "name": "python",
   "nbconvert_exporter": "python",
   "pygments_lexer": "ipython3",
   "version": "3.8.8"
  }
 },
 "nbformat": 4,
 "nbformat_minor": 5
}
